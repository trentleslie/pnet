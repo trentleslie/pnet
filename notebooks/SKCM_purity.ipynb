{
 "cells": [
  {
   "cell_type": "markdown",
   "id": "b6e2f0a8-6b0f-4017-ab72-dd95b3132f5a",
   "metadata": {},
   "source": [
    "# P-Net Example Notebook: SKCM tumor purity prediction"
   ]
  },
  {
   "cell_type": "markdown",
   "id": "728e026b-5fe2-455d-a67c-750260360c26",
   "metadata": {},
   "source": [
    "Imports:"
   ]
  },
  {
   "cell_type": "code",
   "execution_count": 8,
   "id": "7556505a",
   "metadata": {
    "tags": []
   },
   "outputs": [
    {
     "name": "stdout",
     "output_type": "stream",
     "text": [
      "The autoreload extension is already loaded. To reload it, use:\n",
      "  %reload_ext autoreload\n"
     ]
    }
   ],
   "source": [
    "from pnet import pnet_loader, Pnet\n",
    "from util import util, sankey_diag\n",
    "\n",
    "import torch\n",
    "import seaborn as sns\n",
    "import pandas as pd\n",
    "import numpy as np\n",
    "import random\n",
    "from sklearn import metrics\n",
    "import matplotlib.pyplot as plt\n",
    "from sklearn.metrics import roc_auc_score\n",
    "import os\n",
    "import warnings\n",
    "warnings.filterwarnings('ignore')\n",
    "\n",
    "pd.set_option('display.max_columns', None)\n",
    "\n",
    "%load_ext autoreload\n",
    "%autoreload 2"
   ]
  },
  {
   "cell_type": "markdown",
   "id": "97701739-fa4b-4155-b1f5-57d96280f8bb",
   "metadata": {},
   "source": [
    "### Load Input"
   ]
  },
  {
   "cell_type": "markdown",
   "id": "a4e57a3c-80a3-412a-adf9-1a70955cd9fa",
   "metadata": {},
   "source": [
    "The input in this case is test data provided in the repository. Since the original TCGA SKCM dataset is not available in the data directory, we'll use the test datasets which include RNA expression and copy number amplification data. \n",
    "\n",
    "The data is then put into a dictionary shape required for pnet, this is especially useful when using multiple data modalities."
   ]
  },
  {
   "cell_type": "code",
   "execution_count": 9,
   "id": "f50d9af5-b861-48ad-87f3-3460ec8ddf97",
   "metadata": {},
   "outputs": [],
   "source": [
    "# Use test data from the repository\n",
    "import pandas as pd\n",
    "\n",
    "datapath = '../data/test_data/'\n",
    "rna = pd.read_csv(datapath + 'rna.csv', index_col=0)\n",
    "cna = pd.read_csv(datapath + 'cna.csv', index_col=0)\n",
    "genetic_data = {'rna': rna, 'cna': cna}  # Bring input into dictionary shape"
   ]
  },
  {
   "cell_type": "markdown",
   "id": "1684f112-3648-44a7-ad34-366340bef6a8",
   "metadata": {
    "tags": []
   },
   "source": [
    "### Load Target"
   ]
  },
  {
   "cell_type": "markdown",
   "id": "c97e7f5f-557e-4b41-85d8-a775bf0987b3",
   "metadata": {},
   "source": [
    "In this example notebook we use tumor purity as a target. The test data includes purity values in the additional data file."
   ]
  },
  {
   "cell_type": "code",
   "execution_count": 10,
   "id": "9dbfc79f-cfd5-4970-950d-792b4482764b",
   "metadata": {},
   "outputs": [],
   "source": [
    "# Load purity data from the test dataset\n",
    "add_data = pd.read_csv(datapath + 'add.csv', index_col=0)\n",
    "# The test data has 'Purity' column with values\n",
    "purity = pd.DataFrame(add_data['Purity'])"
   ]
  },
  {
   "cell_type": "markdown",
   "id": "89d0a3d3-4578-48ed-b9ba-00dcfac7d6fb",
   "metadata": {},
   "source": [
    "We have the tumor purity as a continuous number in [0,1] and can use this for a regression task"
   ]
  },
  {
   "cell_type": "code",
   "execution_count": 11,
   "id": "32bfe4f7-8e3c-40b1-8736-ac1ba84b450d",
   "metadata": {},
   "outputs": [
    {
     "data": {
      "text/html": [
       "<div>\n",
       "<style scoped>\n",
       "    .dataframe tbody tr th:only-of-type {\n",
       "        vertical-align: middle;\n",
       "    }\n",
       "\n",
       "    .dataframe tbody tr th {\n",
       "        vertical-align: top;\n",
       "    }\n",
       "\n",
       "    .dataframe thead th {\n",
       "        text-align: right;\n",
       "    }\n",
       "</style>\n",
       "<table border=\"1\" class=\"dataframe\">\n",
       "  <thead>\n",
       "    <tr style=\"text-align: right;\">\n",
       "      <th></th>\n",
       "      <th>Purity</th>\n",
       "    </tr>\n",
       "    <tr>\n",
       "      <th>sample_id</th>\n",
       "      <th></th>\n",
       "    </tr>\n",
       "  </thead>\n",
       "  <tbody>\n",
       "    <tr>\n",
       "      <th>Sample159</th>\n",
       "      <td>0.78</td>\n",
       "    </tr>\n",
       "    <tr>\n",
       "      <th>Sample146</th>\n",
       "      <td>0.89</td>\n",
       "    </tr>\n",
       "    <tr>\n",
       "      <th>Sample117</th>\n",
       "      <td>0.33</td>\n",
       "    </tr>\n",
       "    <tr>\n",
       "      <th>Sample10</th>\n",
       "      <td>0.83</td>\n",
       "    </tr>\n",
       "    <tr>\n",
       "      <th>Sample61</th>\n",
       "      <td>0.42</td>\n",
       "    </tr>\n",
       "  </tbody>\n",
       "</table>\n",
       "</div>"
      ],
      "text/plain": [
       "           Purity\n",
       "sample_id        \n",
       "Sample159    0.78\n",
       "Sample146    0.89\n",
       "Sample117    0.33\n",
       "Sample10     0.83\n",
       "Sample61     0.42"
      ]
     },
     "execution_count": 11,
     "metadata": {},
     "output_type": "execute_result"
    }
   ],
   "source": [
    "purity.head()"
   ]
  },
  {
   "cell_type": "markdown",
   "id": "3ca670b3",
   "metadata": {},
   "source": [
    "## Run pnet"
   ]
  },
  {
   "cell_type": "markdown",
   "id": "a64bf7ae-aeea-47ff-8d86-c7481ead1aac",
   "metadata": {},
   "source": [
    "We limit the number of genes used for prediction to some subset of informative cancer genes"
   ]
  },
  {
   "cell_type": "code",
   "execution_count": 12,
   "id": "ce70a3fe-fdc9-41a1-ac42-9edf084e7fb2",
   "metadata": {},
   "outputs": [
    {
     "name": "stdout",
     "output_type": "stream",
     "text": [
      "Using 500 genes from test data\n"
     ]
    },
    {
     "data": {
      "text/plain": [
       "['PPFIBP1', 'NF1', 'CCDC6', 'PRDM2', 'RNF43']"
      ]
     },
     "execution_count": 12,
     "metadata": {},
     "output_type": "execute_result"
    }
   ],
   "source": [
    "# Use the gene subset from test data (pickle file)\n",
    "import pickle\n",
    "with open('../data/test_data/gene_sublist.txt', 'rb') as f:\n",
    "    canc_genes = pickle.load(f)\n",
    "print(f\"Using {len(canc_genes)} genes from test data\")\n",
    "canc_genes[:5]"
   ]
  },
  {
   "cell_type": "markdown",
   "id": "85545813-2fd7-4117-bf38-668f96789a01",
   "metadata": {},
   "source": [
    "The Pnet model can then be trained by simply calling Pnet.run() with the input dictionairy and the target dataframe. Additionally, here we use the cancer gene list. Many more options are available to specific training."
   ]
  },
  {
   "cell_type": "code",
   "execution_count": 13,
   "id": "ac97485e",
   "metadata": {},
   "outputs": [
    {
     "name": "stdout",
     "output_type": "stream",
     "text": [
      "Task defined: REG \n",
      " if this is not the intended task please specify task\n",
      "Given 2 Input modalities\n",
      "Found 20 overlapping indicies\n",
      "Initializing Train Dataset\n",
      "Found 500 overlapping genes\n",
      "generated input DataFrame of size (16, 1000)\n",
      "Initializing Test Dataset\n",
      "Found 500 overlapping genes\n",
      "generated input DataFrame of size (4, 1000)\n",
      "Found 500 overlapping genes\n",
      "Loss function used: MSELoss()\n",
      "Hit early stopping criteria\n"
     ]
    }
   ],
   "source": [
    "model, train_scores, test_scores, train_dataset, test_dataset = Pnet.run(genetic_data,\n",
    "                                                                         purity,\n",
    "                                                                         gene_set=canc_genes)"
   ]
  },
  {
   "cell_type": "markdown",
   "id": "ec8552e3-0a62-4b1b-9505-3295718ff5a7",
   "metadata": {},
   "source": [
    "The Pnet model automatically generates a train and test dataset from the input. Here we can use these for illustration of the results on the test dataset:"
   ]
  },
  {
   "cell_type": "code",
   "execution_count": 14,
   "id": "1f500058",
   "metadata": {},
   "outputs": [],
   "source": [
    "x_train = train_dataset.x\n",
    "additional_train = train_dataset.additional\n",
    "y_train = train_dataset.y\n",
    "x_test = test_dataset.x\n",
    "additional_test = test_dataset.additional\n",
    "y_test = test_dataset.y"
   ]
  },
  {
   "cell_type": "code",
   "execution_count": 15,
   "id": "edb73f26",
   "metadata": {},
   "outputs": [
    {
     "data": {
      "image/png": "[encoded data removed]",
      "text/plain": [
       "<Figure size 640x480 with 1 Axes>"
      ]
     },
     "metadata": {},
     "output_type": "display_data"
    }
   ],
   "source": [
    "model.to('cpu')\n",
    "\n",
    "y_pred = model.predict(test_dataset.x, test_dataset.additional).detach()\n",
    "\n",
    "df = pd.DataFrame(index=test_dataset.input_df.index)\n",
    "df['y_test'] = test_dataset.y\n",
    "df['y_pred'] = y_pred\n",
    "\n",
    "sns.regplot(data=df, x='y_test', y='y_pred', color='#41B6E6')\n",
    "correlation_coefficient = round(df['y_test'].corr(df['y_pred']), 2)\n",
    "plt.text(0.95, 0.05, f'Correlation: {correlation_coefficient}', ha='right', va='center', transform=plt.gca().transAxes)\n",
    "plt.plot(y_test, y_test, color='#FFA300', linestyle='--', label='Diagonal Line')\n",
    "sns.despine()\n",
    "plt.show()"
   ]
  },
  {
   "cell_type": "markdown",
   "id": "247036a6-2680-446b-853d-446a9506ff38",
   "metadata": {},
   "source": [
    "For a quick look at the importance scores we can run model.interpret with the test dataset. We recommend however, to use multiple folds of cross validation before inspecting feature and pathway importances, since individual runs can drastically differ and only stable features across runs can be considered important."
   ]
  },
  {
   "cell_type": "code",
   "execution_count": 16,
   "id": "94d4ca4b-3bc5-4fde-a44f-f38d4e254260",
   "metadata": {},
   "outputs": [],
   "source": [
    "gene_feature_importances, additional_feature_importances, gene_importances, layer_importance_scores = model.interpret(test_dataset)\n",
    "layer_list = [gene_feature_importances, additional_feature_importances, gene_importances] + layer_importance_scores\n",
    "layer_list_names = ['gene_feature', 'additional_feature', 'gene'] + [f'layer_{i}' for i in range(5)]\n",
    "layer_list_dict = dict(zip(layer_list_names, layer_list))"
   ]
  },
  {
   "cell_type": "markdown",
   "id": "063a3629-1534-4af0-94f2-fe0b864eec7a",
   "metadata": {},
   "source": [
    "To visualize feature importances, one can generate a Sankey Diagram across all layers of the model:"
   ]
  },
  {
   "cell_type": "code",
   "execution_count": 17,
   "id": "4864e955-0e28-41b0-b3be-f1b278ae684c",
   "metadata": {},
   "outputs": [
    {
     "ename": "TypeError",
     "evalue": "agg function failed [how->mean,dtype->object]",
     "output_type": "error",
     "traceback": [
      "\u001b[31m---------------------------------------------------------------------------\u001b[39m",
      "\u001b[31mTypeError\u001b[39m                                 Traceback (most recent call last)",
      "\u001b[36mFile \u001b[39m\u001b[32m~/miniconda3/envs/pnet/lib/python3.12/site-packages/pandas/core/groupby/groupby.py:1942\u001b[39m, in \u001b[36mGroupBy._agg_py_fallback\u001b[39m\u001b[34m(self, how, values, ndim, alt)\u001b[39m\n\u001b[32m   1941\u001b[39m \u001b[38;5;28;01mtry\u001b[39;00m:\n\u001b[32m-> \u001b[39m\u001b[32m1942\u001b[39m     res_values = \u001b[38;5;28;43mself\u001b[39;49m\u001b[43m.\u001b[49m\u001b[43m_grouper\u001b[49m\u001b[43m.\u001b[49m\u001b[43magg_series\u001b[49m\u001b[43m(\u001b[49m\u001b[43mser\u001b[49m\u001b[43m,\u001b[49m\u001b[43m \u001b[49m\u001b[43malt\u001b[49m\u001b[43m,\u001b[49m\u001b[43m \u001b[49m\u001b[43mpreserve_dtype\u001b[49m\u001b[43m=\u001b[49m\u001b[38;5;28;43;01mTrue\u001b[39;49;00m\u001b[43m)\u001b[49m\n\u001b[32m   1943\u001b[39m \u001b[38;5;28;01mexcept\u001b[39;00m \u001b[38;5;167;01mException\u001b[39;00m \u001b[38;5;28;01mas\u001b[39;00m err:\n",
      "\u001b[36mFile \u001b[39m\u001b[32m~/miniconda3/envs/pnet/lib/python3.12/site-packages/pandas/core/groupby/ops.py:863\u001b[39m, in \u001b[36mBaseGrouper.agg_series\u001b[39m\u001b[34m(self, obj, func, preserve_dtype)\u001b[39m\n\u001b[32m    861\u001b[39m     preserve_dtype = \u001b[38;5;28;01mTrue\u001b[39;00m\n\u001b[32m--> \u001b[39m\u001b[32m863\u001b[39m result = \u001b[38;5;28;43mself\u001b[39;49m\u001b[43m.\u001b[49m\u001b[43m_aggregate_series_pure_python\u001b[49m\u001b[43m(\u001b[49m\u001b[43mobj\u001b[49m\u001b[43m,\u001b[49m\u001b[43m \u001b[49m\u001b[43mfunc\u001b[49m\u001b[43m)\u001b[49m\n\u001b[32m    865\u001b[39m npvalues = lib.maybe_convert_objects(result, try_float=\u001b[38;5;28;01mFalse\u001b[39;00m)\n",
      "\u001b[36mFile \u001b[39m\u001b[32m~/miniconda3/envs/pnet/lib/python3.12/site-packages/pandas/core/groupby/ops.py:884\u001b[39m, in \u001b[36mBaseGrouper._aggregate_series_pure_python\u001b[39m\u001b[34m(self, obj, func)\u001b[39m\n\u001b[32m    883\u001b[39m \u001b[38;5;28;01mfor\u001b[39;00m i, group \u001b[38;5;129;01min\u001b[39;00m \u001b[38;5;28menumerate\u001b[39m(splitter):\n\u001b[32m--> \u001b[39m\u001b[32m884\u001b[39m     res = \u001b[43mfunc\u001b[49m\u001b[43m(\u001b[49m\u001b[43mgroup\u001b[49m\u001b[43m)\u001b[49m\n\u001b[32m    885\u001b[39m     res = extract_result(res)\n",
      "\u001b[36mFile \u001b[39m\u001b[32m~/miniconda3/envs/pnet/lib/python3.12/site-packages/pandas/core/groupby/groupby.py:2454\u001b[39m, in \u001b[36mGroupBy.mean.<locals>.<lambda>\u001b[39m\u001b[34m(x)\u001b[39m\n\u001b[32m   2451\u001b[39m \u001b[38;5;28;01melse\u001b[39;00m:\n\u001b[32m   2452\u001b[39m     result = \u001b[38;5;28mself\u001b[39m._cython_agg_general(\n\u001b[32m   2453\u001b[39m         \u001b[33m\"\u001b[39m\u001b[33mmean\u001b[39m\u001b[33m\"\u001b[39m,\n\u001b[32m-> \u001b[39m\u001b[32m2454\u001b[39m         alt=\u001b[38;5;28;01mlambda\u001b[39;00m x: \u001b[43mSeries\u001b[49m\u001b[43m(\u001b[49m\u001b[43mx\u001b[49m\u001b[43m,\u001b[49m\u001b[43m \u001b[49m\u001b[43mcopy\u001b[49m\u001b[43m=\u001b[49m\u001b[38;5;28;43;01mFalse\u001b[39;49;00m\u001b[43m)\u001b[49m\u001b[43m.\u001b[49m\u001b[43mmean\u001b[49m\u001b[43m(\u001b[49m\u001b[43mnumeric_only\u001b[49m\u001b[43m=\u001b[49m\u001b[43mnumeric_only\u001b[49m\u001b[43m)\u001b[49m,\n\u001b[32m   2455\u001b[39m         numeric_only=numeric_only,\n\u001b[32m   2456\u001b[39m     )\n\u001b[32m   2457\u001b[39m     \u001b[38;5;28;01mreturn\u001b[39;00m result.__finalize__(\u001b[38;5;28mself\u001b[39m.obj, method=\u001b[33m\"\u001b[39m\u001b[33mgroupby\u001b[39m\u001b[33m\"\u001b[39m)\n",
      "\u001b[36mFile \u001b[39m\u001b[32m~/miniconda3/envs/pnet/lib/python3.12/site-packages/pandas/core/series.py:6529\u001b[39m, in \u001b[36mSeries.mean\u001b[39m\u001b[34m(self, axis, skipna, numeric_only, **kwargs)\u001b[39m\n\u001b[32m   6521\u001b[39m \u001b[38;5;129m@doc\u001b[39m(make_doc(\u001b[33m\"\u001b[39m\u001b[33mmean\u001b[39m\u001b[33m\"\u001b[39m, ndim=\u001b[32m1\u001b[39m))\n\u001b[32m   6522\u001b[39m \u001b[38;5;28;01mdef\u001b[39;00m \u001b[34mmean\u001b[39m(\n\u001b[32m   6523\u001b[39m     \u001b[38;5;28mself\u001b[39m,\n\u001b[32m   (...)\u001b[39m\u001b[32m   6527\u001b[39m     **kwargs,\n\u001b[32m   6528\u001b[39m ):\n\u001b[32m-> \u001b[39m\u001b[32m6529\u001b[39m     \u001b[38;5;28;01mreturn\u001b[39;00m \u001b[43mNDFrame\u001b[49m\u001b[43m.\u001b[49m\u001b[43mmean\u001b[49m\u001b[43m(\u001b[49m\u001b[38;5;28;43mself\u001b[39;49m\u001b[43m,\u001b[49m\u001b[43m \u001b[49m\u001b[43maxis\u001b[49m\u001b[43m,\u001b[49m\u001b[43m \u001b[49m\u001b[43mskipna\u001b[49m\u001b[43m,\u001b[49m\u001b[43m \u001b[49m\u001b[43mnumeric_only\u001b[49m\u001b[43m,\u001b[49m\u001b[43m \u001b[49m\u001b[43m*\u001b[49m\u001b[43m*\u001b[49m\u001b[43mkwargs\u001b[49m\u001b[43m)\u001b[49m\n",
      "\u001b[36mFile \u001b[39m\u001b[32m~/miniconda3/envs/pnet/lib/python3.12/site-packages/pandas/core/generic.py:12413\u001b[39m, in \u001b[36mNDFrame.mean\u001b[39m\u001b[34m(self, axis, skipna, numeric_only, **kwargs)\u001b[39m\n\u001b[32m  12406\u001b[39m \u001b[38;5;28;01mdef\u001b[39;00m \u001b[34mmean\u001b[39m(\n\u001b[32m  12407\u001b[39m     \u001b[38;5;28mself\u001b[39m,\n\u001b[32m  12408\u001b[39m     axis: Axis | \u001b[38;5;28;01mNone\u001b[39;00m = \u001b[32m0\u001b[39m,\n\u001b[32m   (...)\u001b[39m\u001b[32m  12411\u001b[39m     **kwargs,\n\u001b[32m  12412\u001b[39m ) -> Series | \u001b[38;5;28mfloat\u001b[39m:\n\u001b[32m> \u001b[39m\u001b[32m12413\u001b[39m     \u001b[38;5;28;01mreturn\u001b[39;00m \u001b[38;5;28;43mself\u001b[39;49m\u001b[43m.\u001b[49m\u001b[43m_stat_function\u001b[49m\u001b[43m(\u001b[49m\n\u001b[32m  12414\u001b[39m \u001b[43m        \u001b[49m\u001b[33;43m\"\u001b[39;49m\u001b[33;43mmean\u001b[39;49m\u001b[33;43m\"\u001b[39;49m\u001b[43m,\u001b[49m\u001b[43m \u001b[49m\u001b[43mnanops\u001b[49m\u001b[43m.\u001b[49m\u001b[43mnanmean\u001b[49m\u001b[43m,\u001b[49m\u001b[43m \u001b[49m\u001b[43maxis\u001b[49m\u001b[43m,\u001b[49m\u001b[43m \u001b[49m\u001b[43mskipna\u001b[49m\u001b[43m,\u001b[49m\u001b[43m \u001b[49m\u001b[43mnumeric_only\u001b[49m\u001b[43m,\u001b[49m\u001b[43m \u001b[49m\u001b[43m*\u001b[49m\u001b[43m*\u001b[49m\u001b[43mkwargs\u001b[49m\n\u001b[32m  12415\u001b[39m \u001b[43m    \u001b[49m\u001b[43m)\u001b[49m\n",
      "\u001b[36mFile \u001b[39m\u001b[32m~/miniconda3/envs/pnet/lib/python3.12/site-packages/pandas/core/generic.py:12370\u001b[39m, in \u001b[36mNDFrame._stat_function\u001b[39m\u001b[34m(self, name, func, axis, skipna, numeric_only, **kwargs)\u001b[39m\n\u001b[32m  12368\u001b[39m validate_bool_kwarg(skipna, \u001b[33m\"\u001b[39m\u001b[33mskipna\u001b[39m\u001b[33m\"\u001b[39m, none_allowed=\u001b[38;5;28;01mFalse\u001b[39;00m)\n\u001b[32m> \u001b[39m\u001b[32m12370\u001b[39m \u001b[38;5;28;01mreturn\u001b[39;00m \u001b[38;5;28;43mself\u001b[39;49m\u001b[43m.\u001b[49m\u001b[43m_reduce\u001b[49m\u001b[43m(\u001b[49m\n\u001b[32m  12371\u001b[39m \u001b[43m    \u001b[49m\u001b[43mfunc\u001b[49m\u001b[43m,\u001b[49m\u001b[43m \u001b[49m\u001b[43mname\u001b[49m\u001b[43m=\u001b[49m\u001b[43mname\u001b[49m\u001b[43m,\u001b[49m\u001b[43m \u001b[49m\u001b[43maxis\u001b[49m\u001b[43m=\u001b[49m\u001b[43maxis\u001b[49m\u001b[43m,\u001b[49m\u001b[43m \u001b[49m\u001b[43mskipna\u001b[49m\u001b[43m=\u001b[49m\u001b[43mskipna\u001b[49m\u001b[43m,\u001b[49m\u001b[43m \u001b[49m\u001b[43mnumeric_only\u001b[49m\u001b[43m=\u001b[49m\u001b[43mnumeric_only\u001b[49m\n\u001b[32m  12372\u001b[39m \u001b[43m\u001b[49m\u001b[43m)\u001b[49m\n",
      "\u001b[36mFile \u001b[39m\u001b[32m~/miniconda3/envs/pnet/lib/python3.12/site-packages/pandas/core/series.py:6437\u001b[39m, in \u001b[36mSeries._reduce\u001b[39m\u001b[34m(self, op, name, axis, skipna, numeric_only, filter_type, **kwds)\u001b[39m\n\u001b[32m   6433\u001b[39m     \u001b[38;5;28;01mraise\u001b[39;00m \u001b[38;5;167;01mTypeError\u001b[39;00m(\n\u001b[32m   6434\u001b[39m         \u001b[33mf\u001b[39m\u001b[33m\"\u001b[39m\u001b[33mSeries.\u001b[39m\u001b[38;5;132;01m{\u001b[39;00mname\u001b[38;5;132;01m}\u001b[39;00m\u001b[33m does not allow \u001b[39m\u001b[38;5;132;01m{\u001b[39;00mkwd_name\u001b[38;5;132;01m}\u001b[39;00m\u001b[33m=\u001b[39m\u001b[38;5;132;01m{\u001b[39;00mnumeric_only\u001b[38;5;132;01m}\u001b[39;00m\u001b[33m \u001b[39m\u001b[33m\"\u001b[39m\n\u001b[32m   6435\u001b[39m         \u001b[33m\"\u001b[39m\u001b[33mwith non-numeric dtypes.\u001b[39m\u001b[33m\"\u001b[39m\n\u001b[32m   6436\u001b[39m     )\n\u001b[32m-> \u001b[39m\u001b[32m6437\u001b[39m \u001b[38;5;28;01mreturn\u001b[39;00m \u001b[43mop\u001b[49m\u001b[43m(\u001b[49m\u001b[43mdelegate\u001b[49m\u001b[43m,\u001b[49m\u001b[43m \u001b[49m\u001b[43mskipna\u001b[49m\u001b[43m=\u001b[49m\u001b[43mskipna\u001b[49m\u001b[43m,\u001b[49m\u001b[43m \u001b[49m\u001b[43m*\u001b[49m\u001b[43m*\u001b[49m\u001b[43mkwds\u001b[49m\u001b[43m)\u001b[49m\n",
      "\u001b[36mFile \u001b[39m\u001b[32m~/miniconda3/envs/pnet/lib/python3.12/site-packages/pandas/core/nanops.py:147\u001b[39m, in \u001b[36mbottleneck_switch.__call__.<locals>.f\u001b[39m\u001b[34m(values, axis, skipna, **kwds)\u001b[39m\n\u001b[32m    146\u001b[39m \u001b[38;5;28;01melse\u001b[39;00m:\n\u001b[32m--> \u001b[39m\u001b[32m147\u001b[39m     result = \u001b[43malt\u001b[49m\u001b[43m(\u001b[49m\u001b[43mvalues\u001b[49m\u001b[43m,\u001b[49m\u001b[43m \u001b[49m\u001b[43maxis\u001b[49m\u001b[43m=\u001b[49m\u001b[43maxis\u001b[49m\u001b[43m,\u001b[49m\u001b[43m \u001b[49m\u001b[43mskipna\u001b[49m\u001b[43m=\u001b[49m\u001b[43mskipna\u001b[49m\u001b[43m,\u001b[49m\u001b[43m \u001b[49m\u001b[43m*\u001b[49m\u001b[43m*\u001b[49m\u001b[43mkwds\u001b[49m\u001b[43m)\u001b[49m\n\u001b[32m    149\u001b[39m \u001b[38;5;28;01mreturn\u001b[39;00m result\n",
      "\u001b[36mFile \u001b[39m\u001b[32m~/miniconda3/envs/pnet/lib/python3.12/site-packages/pandas/core/nanops.py:404\u001b[39m, in \u001b[36m_datetimelike_compat.<locals>.new_func\u001b[39m\u001b[34m(values, axis, skipna, mask, **kwargs)\u001b[39m\n\u001b[32m    402\u001b[39m     mask = isna(values)\n\u001b[32m--> \u001b[39m\u001b[32m404\u001b[39m result = \u001b[43mfunc\u001b[49m\u001b[43m(\u001b[49m\u001b[43mvalues\u001b[49m\u001b[43m,\u001b[49m\u001b[43m \u001b[49m\u001b[43maxis\u001b[49m\u001b[43m=\u001b[49m\u001b[43maxis\u001b[49m\u001b[43m,\u001b[49m\u001b[43m \u001b[49m\u001b[43mskipna\u001b[49m\u001b[43m=\u001b[49m\u001b[43mskipna\u001b[49m\u001b[43m,\u001b[49m\u001b[43m \u001b[49m\u001b[43mmask\u001b[49m\u001b[43m=\u001b[49m\u001b[43mmask\u001b[49m\u001b[43m,\u001b[49m\u001b[43m \u001b[49m\u001b[43m*\u001b[49m\u001b[43m*\u001b[49m\u001b[43mkwargs\u001b[49m\u001b[43m)\u001b[49m\n\u001b[32m    406\u001b[39m \u001b[38;5;28;01mif\u001b[39;00m datetimelike:\n",
      "\u001b[36mFile \u001b[39m\u001b[32m~/miniconda3/envs/pnet/lib/python3.12/site-packages/pandas/core/nanops.py:720\u001b[39m, in \u001b[36mnanmean\u001b[39m\u001b[34m(values, axis, skipna, mask)\u001b[39m\n\u001b[32m    719\u001b[39m the_sum = values.sum(axis, dtype=dtype_sum)\n\u001b[32m--> \u001b[39m\u001b[32m720\u001b[39m the_sum = \u001b[43m_ensure_numeric\u001b[49m\u001b[43m(\u001b[49m\u001b[43mthe_sum\u001b[49m\u001b[43m)\u001b[49m\n\u001b[32m    722\u001b[39m \u001b[38;5;28;01mif\u001b[39;00m axis \u001b[38;5;129;01mis\u001b[39;00m \u001b[38;5;129;01mnot\u001b[39;00m \u001b[38;5;28;01mNone\u001b[39;00m \u001b[38;5;129;01mand\u001b[39;00m \u001b[38;5;28mgetattr\u001b[39m(the_sum, \u001b[33m\"\u001b[39m\u001b[33mndim\u001b[39m\u001b[33m\"\u001b[39m, \u001b[38;5;28;01mFalse\u001b[39;00m):\n",
      "\u001b[36mFile \u001b[39m\u001b[32m~/miniconda3/envs/pnet/lib/python3.12/site-packages/pandas/core/nanops.py:1701\u001b[39m, in \u001b[36m_ensure_numeric\u001b[39m\u001b[34m(x)\u001b[39m\n\u001b[32m   1699\u001b[39m \u001b[38;5;28;01mif\u001b[39;00m \u001b[38;5;28misinstance\u001b[39m(x, \u001b[38;5;28mstr\u001b[39m):\n\u001b[32m   1700\u001b[39m     \u001b[38;5;66;03m# GH#44008, GH#36703 avoid casting e.g. strings to numeric\u001b[39;00m\n\u001b[32m-> \u001b[39m\u001b[32m1701\u001b[39m     \u001b[38;5;28;01mraise\u001b[39;00m \u001b[38;5;167;01mTypeError\u001b[39;00m(\u001b[33mf\u001b[39m\u001b[33m\"\u001b[39m\u001b[33mCould not convert string \u001b[39m\u001b[33m'\u001b[39m\u001b[38;5;132;01m{\u001b[39;00mx\u001b[38;5;132;01m}\u001b[39;00m\u001b[33m'\u001b[39m\u001b[33m to numeric\u001b[39m\u001b[33m\"\u001b[39m)\n\u001b[32m   1702\u001b[39m \u001b[38;5;28;01mtry\u001b[39;00m:\n",
      "\u001b[31mTypeError\u001b[39m: Could not convert string 'Sample45Sample20Sample1Sample10' to numeric",
      "\nThe above exception was the direct cause of the following exception:\n",
      "\u001b[31mTypeError\u001b[39m                                 Traceback (most recent call last)",
      "\u001b[36mCell\u001b[39m\u001b[36m \u001b[39m\u001b[32mIn[17]\u001b[39m\u001b[32m, line 2\u001b[39m\n\u001b[32m      1\u001b[39m savepath = \u001b[33m'\u001b[39m\u001b[33m../results/skcm_purity_sankey.html\u001b[39m\u001b[33m'\u001b[39m  \u001b[38;5;66;03m# Save to results directory\u001b[39;00m\n\u001b[32m----> \u001b[39m\u001b[32m2\u001b[39m sk = \u001b[43msankey_diag\u001b[49m\u001b[43m.\u001b[49m\u001b[43mSankeyDiag\u001b[49m\u001b[43m(\u001b[49m\u001b[43mlayer_list_dict\u001b[49m\u001b[43m,\u001b[49m\u001b[43m \u001b[49m\u001b[43mruns\u001b[49m\u001b[43m=\u001b[49m\u001b[32;43m1\u001b[39;49m\u001b[43m)\u001b[49m\n\u001b[32m      3\u001b[39m fig = sk.get_sankey_diag(savepath)\n",
      "\u001b[36mFile \u001b[39m\u001b[32m/procedure/pnet/src/util/sankey_diag.py:22\u001b[39m, in \u001b[36mSankeyDiag.__init__\u001b[39m\u001b[34m(self, imps, target, runs)\u001b[39m\n\u001b[32m     20\u001b[39m         \u001b[33m'\u001b[39m\u001b[33mAssuming input was a dictonairy with layer names and importance dataframes in output format of Pnet.interpret\u001b[39m\u001b[33m'\u001b[39m\n\u001b[32m     21\u001b[39m         \u001b[38;5;28mself\u001b[39m.all_imps = \u001b[38;5;28mself\u001b[39m.format_importance_scores(imps)\n\u001b[32m---> \u001b[39m\u001b[32m22\u001b[39m \u001b[38;5;28mself\u001b[39m.grouped_imps = \u001b[38;5;28;43mself\u001b[39;49m\u001b[43m.\u001b[49m\u001b[43mgroup_importance_scores\u001b[49m\u001b[43m(\u001b[49m\u001b[43mtarget\u001b[49m\u001b[43m)\u001b[49m\n\u001b[32m     23\u001b[39m \u001b[38;5;28mself\u001b[39m.normalize_layerwise()\n\u001b[32m     24\u001b[39m \u001b[38;5;28mself\u001b[39m.rn = \u001b[38;5;28mself\u001b[39m.get_reactome_network_for_imps()\n",
      "\u001b[36mFile \u001b[39m\u001b[32m/procedure/pnet/src/util/sankey_diag.py:75\u001b[39m, in \u001b[36mSankeyDiag.group_importance_scores\u001b[39m\u001b[34m(self, target)\u001b[39m\n\u001b[32m     73\u001b[39m     grouped_imps = grouped_imps.query(\u001b[33m'\u001b[39m\u001b[38;5;132;01m{}\u001b[39;00m\u001b[33m == 1\u001b[39m\u001b[33m'\u001b[39m.format(response)).reset_index()\n\u001b[32m     74\u001b[39m \u001b[38;5;28;01melse\u001b[39;00m:\n\u001b[32m---> \u001b[39m\u001b[32m75\u001b[39m     grouped_imps = pd.DataFrame(\u001b[38;5;28;43mself\u001b[39;49m\u001b[43m.\u001b[49m\u001b[43mall_imps\u001b[49m\u001b[43m.\u001b[49m\u001b[43mgroupby\u001b[49m\u001b[43m(\u001b[49m\u001b[43m[\u001b[49m\u001b[33;43m'\u001b[39;49m\u001b[33;43mGene/Pathway\u001b[39;49m\u001b[33;43m'\u001b[39;49m\u001b[43m,\u001b[49m\u001b[43m \u001b[49m\u001b[33;43m'\u001b[39;49m\u001b[33;43mLayer\u001b[39;49m\u001b[33;43m'\u001b[39;49m\u001b[43m]\u001b[49m\u001b[43m)\u001b[49m\u001b[43m.\u001b[49m\u001b[43mmean\u001b[49m\u001b[43m(\u001b[49m\u001b[43m)\u001b[49m.abs().reset_index())\n\u001b[32m     76\u001b[39m \u001b[38;5;28;01mreturn\u001b[39;00m grouped_imps\n",
      "\u001b[36mFile \u001b[39m\u001b[32m~/miniconda3/envs/pnet/lib/python3.12/site-packages/pandas/core/groupby/groupby.py:2452\u001b[39m, in \u001b[36mGroupBy.mean\u001b[39m\u001b[34m(self, numeric_only, engine, engine_kwargs)\u001b[39m\n\u001b[32m   2445\u001b[39m     \u001b[38;5;28;01mreturn\u001b[39;00m \u001b[38;5;28mself\u001b[39m._numba_agg_general(\n\u001b[32m   2446\u001b[39m         grouped_mean,\n\u001b[32m   2447\u001b[39m         executor.float_dtype_mapping,\n\u001b[32m   2448\u001b[39m         engine_kwargs,\n\u001b[32m   2449\u001b[39m         min_periods=\u001b[32m0\u001b[39m,\n\u001b[32m   2450\u001b[39m     )\n\u001b[32m   2451\u001b[39m \u001b[38;5;28;01melse\u001b[39;00m:\n\u001b[32m-> \u001b[39m\u001b[32m2452\u001b[39m     result = \u001b[38;5;28;43mself\u001b[39;49m\u001b[43m.\u001b[49m\u001b[43m_cython_agg_general\u001b[49m\u001b[43m(\u001b[49m\n\u001b[32m   2453\u001b[39m \u001b[43m        \u001b[49m\u001b[33;43m\"\u001b[39;49m\u001b[33;43mmean\u001b[39;49m\u001b[33;43m\"\u001b[39;49m\u001b[43m,\u001b[49m\n\u001b[32m   2454\u001b[39m \u001b[43m        \u001b[49m\u001b[43malt\u001b[49m\u001b[43m=\u001b[49m\u001b[38;5;28;43;01mlambda\u001b[39;49;00m\u001b[43m \u001b[49m\u001b[43mx\u001b[49m\u001b[43m:\u001b[49m\u001b[43m \u001b[49m\u001b[43mSeries\u001b[49m\u001b[43m(\u001b[49m\u001b[43mx\u001b[49m\u001b[43m,\u001b[49m\u001b[43m \u001b[49m\u001b[43mcopy\u001b[49m\u001b[43m=\u001b[49m\u001b[38;5;28;43;01mFalse\u001b[39;49;00m\u001b[43m)\u001b[49m\u001b[43m.\u001b[49m\u001b[43mmean\u001b[49m\u001b[43m(\u001b[49m\u001b[43mnumeric_only\u001b[49m\u001b[43m=\u001b[49m\u001b[43mnumeric_only\u001b[49m\u001b[43m)\u001b[49m\u001b[43m,\u001b[49m\n\u001b[32m   2455\u001b[39m \u001b[43m        \u001b[49m\u001b[43mnumeric_only\u001b[49m\u001b[43m=\u001b[49m\u001b[43mnumeric_only\u001b[49m\u001b[43m,\u001b[49m\n\u001b[32m   2456\u001b[39m \u001b[43m    \u001b[49m\u001b[43m)\u001b[49m\n\u001b[32m   2457\u001b[39m     \u001b[38;5;28;01mreturn\u001b[39;00m result.__finalize__(\u001b[38;5;28mself\u001b[39m.obj, method=\u001b[33m\"\u001b[39m\u001b[33mgroupby\u001b[39m\u001b[33m\"\u001b[39m)\n",
      "\u001b[36mFile \u001b[39m\u001b[32m~/miniconda3/envs/pnet/lib/python3.12/site-packages/pandas/core/groupby/groupby.py:1998\u001b[39m, in \u001b[36mGroupBy._cython_agg_general\u001b[39m\u001b[34m(self, how, alt, numeric_only, min_count, **kwargs)\u001b[39m\n\u001b[32m   1995\u001b[39m     result = \u001b[38;5;28mself\u001b[39m._agg_py_fallback(how, values, ndim=data.ndim, alt=alt)\n\u001b[32m   1996\u001b[39m     \u001b[38;5;28;01mreturn\u001b[39;00m result\n\u001b[32m-> \u001b[39m\u001b[32m1998\u001b[39m new_mgr = \u001b[43mdata\u001b[49m\u001b[43m.\u001b[49m\u001b[43mgrouped_reduce\u001b[49m\u001b[43m(\u001b[49m\u001b[43marray_func\u001b[49m\u001b[43m)\u001b[49m\n\u001b[32m   1999\u001b[39m res = \u001b[38;5;28mself\u001b[39m._wrap_agged_manager(new_mgr)\n\u001b[32m   2000\u001b[39m \u001b[38;5;28;01mif\u001b[39;00m how \u001b[38;5;129;01min\u001b[39;00m [\u001b[33m\"\u001b[39m\u001b[33midxmin\u001b[39m\u001b[33m\"\u001b[39m, \u001b[33m\"\u001b[39m\u001b[33midxmax\u001b[39m\u001b[33m\"\u001b[39m]:\n",
      "\u001b[36mFile \u001b[39m\u001b[32m~/miniconda3/envs/pnet/lib/python3.12/site-packages/pandas/core/internals/managers.py:1470\u001b[39m, in \u001b[36mBlockManager.grouped_reduce\u001b[39m\u001b[34m(self, func)\u001b[39m\n\u001b[32m   1466\u001b[39m \u001b[38;5;28;01mif\u001b[39;00m blk.is_object:\n\u001b[32m   1467\u001b[39m     \u001b[38;5;66;03m# split on object-dtype blocks bc some columns may raise\u001b[39;00m\n\u001b[32m   1468\u001b[39m     \u001b[38;5;66;03m#  while others do not.\u001b[39;00m\n\u001b[32m   1469\u001b[39m     \u001b[38;5;28;01mfor\u001b[39;00m sb \u001b[38;5;129;01min\u001b[39;00m blk._split():\n\u001b[32m-> \u001b[39m\u001b[32m1470\u001b[39m         applied = \u001b[43msb\u001b[49m\u001b[43m.\u001b[49m\u001b[43mapply\u001b[49m\u001b[43m(\u001b[49m\u001b[43mfunc\u001b[49m\u001b[43m)\u001b[49m\n\u001b[32m   1471\u001b[39m         result_blocks = extend_blocks(applied, result_blocks)\n\u001b[32m   1472\u001b[39m \u001b[38;5;28;01melse\u001b[39;00m:\n",
      "\u001b[36mFile \u001b[39m\u001b[32m~/miniconda3/envs/pnet/lib/python3.12/site-packages/pandas/core/internals/blocks.py:393\u001b[39m, in \u001b[36mBlock.apply\u001b[39m\u001b[34m(self, func, **kwargs)\u001b[39m\n\u001b[32m    387\u001b[39m \u001b[38;5;129m@final\u001b[39m\n\u001b[32m    388\u001b[39m \u001b[38;5;28;01mdef\u001b[39;00m \u001b[34mapply\u001b[39m(\u001b[38;5;28mself\u001b[39m, func, **kwargs) -> \u001b[38;5;28mlist\u001b[39m[Block]:\n\u001b[32m    389\u001b[39m \u001b[38;5;250m    \u001b[39m\u001b[33;03m\"\"\"\u001b[39;00m\n\u001b[32m    390\u001b[39m \u001b[33;03m    apply the function to my values; return a block if we are not\u001b[39;00m\n\u001b[32m    391\u001b[39m \u001b[33;03m    one\u001b[39;00m\n\u001b[32m    392\u001b[39m \u001b[33;03m    \"\"\"\u001b[39;00m\n\u001b[32m--> \u001b[39m\u001b[32m393\u001b[39m     result = \u001b[43mfunc\u001b[49m\u001b[43m(\u001b[49m\u001b[38;5;28;43mself\u001b[39;49m\u001b[43m.\u001b[49m\u001b[43mvalues\u001b[49m\u001b[43m,\u001b[49m\u001b[43m \u001b[49m\u001b[43m*\u001b[49m\u001b[43m*\u001b[49m\u001b[43mkwargs\u001b[49m\u001b[43m)\u001b[49m\n\u001b[32m    395\u001b[39m     result = maybe_coerce_values(result)\n\u001b[32m    396\u001b[39m     \u001b[38;5;28;01mreturn\u001b[39;00m \u001b[38;5;28mself\u001b[39m._split_op_result(result)\n",
      "\u001b[36mFile \u001b[39m\u001b[32m~/miniconda3/envs/pnet/lib/python3.12/site-packages/pandas/core/groupby/groupby.py:1995\u001b[39m, in \u001b[36mGroupBy._cython_agg_general.<locals>.array_func\u001b[39m\u001b[34m(values)\u001b[39m\n\u001b[32m   1992\u001b[39m     \u001b[38;5;28;01mreturn\u001b[39;00m result\n\u001b[32m   1994\u001b[39m \u001b[38;5;28;01massert\u001b[39;00m alt \u001b[38;5;129;01mis\u001b[39;00m \u001b[38;5;129;01mnot\u001b[39;00m \u001b[38;5;28;01mNone\u001b[39;00m\n\u001b[32m-> \u001b[39m\u001b[32m1995\u001b[39m result = \u001b[38;5;28;43mself\u001b[39;49m\u001b[43m.\u001b[49m\u001b[43m_agg_py_fallback\u001b[49m\u001b[43m(\u001b[49m\u001b[43mhow\u001b[49m\u001b[43m,\u001b[49m\u001b[43m \u001b[49m\u001b[43mvalues\u001b[49m\u001b[43m,\u001b[49m\u001b[43m \u001b[49m\u001b[43mndim\u001b[49m\u001b[43m=\u001b[49m\u001b[43mdata\u001b[49m\u001b[43m.\u001b[49m\u001b[43mndim\u001b[49m\u001b[43m,\u001b[49m\u001b[43m \u001b[49m\u001b[43malt\u001b[49m\u001b[43m=\u001b[49m\u001b[43malt\u001b[49m\u001b[43m)\u001b[49m\n\u001b[32m   1996\u001b[39m \u001b[38;5;28;01mreturn\u001b[39;00m result\n",
      "\u001b[36mFile \u001b[39m\u001b[32m~/miniconda3/envs/pnet/lib/python3.12/site-packages/pandas/core/groupby/groupby.py:1946\u001b[39m, in \u001b[36mGroupBy._agg_py_fallback\u001b[39m\u001b[34m(self, how, values, ndim, alt)\u001b[39m\n\u001b[32m   1944\u001b[39m     msg = \u001b[33mf\u001b[39m\u001b[33m\"\u001b[39m\u001b[33magg function failed [how->\u001b[39m\u001b[38;5;132;01m{\u001b[39;00mhow\u001b[38;5;132;01m}\u001b[39;00m\u001b[33m,dtype->\u001b[39m\u001b[38;5;132;01m{\u001b[39;00mser.dtype\u001b[38;5;132;01m}\u001b[39;00m\u001b[33m]\u001b[39m\u001b[33m\"\u001b[39m\n\u001b[32m   1945\u001b[39m     \u001b[38;5;66;03m# preserve the kind of exception that raised\u001b[39;00m\n\u001b[32m-> \u001b[39m\u001b[32m1946\u001b[39m     \u001b[38;5;28;01mraise\u001b[39;00m \u001b[38;5;28mtype\u001b[39m(err)(msg) \u001b[38;5;28;01mfrom\u001b[39;00m \u001b[34;01merr\u001b[39;00m\n\u001b[32m   1948\u001b[39m \u001b[38;5;28;01mif\u001b[39;00m ser.dtype == \u001b[38;5;28mobject\u001b[39m:\n\u001b[32m   1949\u001b[39m     res_values = res_values.astype(\u001b[38;5;28mobject\u001b[39m, copy=\u001b[38;5;28;01mFalse\u001b[39;00m)\n",
      "\u001b[31mTypeError\u001b[39m: agg function failed [how->mean,dtype->object]"
     ]
    }
   ],
   "source": [
    "savepath = '../results/skcm_purity_sankey.html'  # Save to results directory\n",
    "sk = sankey_diag.SankeyDiag(layer_list_dict, runs=1)\n",
    "fig = sk.get_sankey_diag(savepath)"
   ]
  },
  {
   "cell_type": "markdown",
   "id": "881ede55",
   "metadata": {},
   "source": [
    "### External Validation"
   ]
  },
  {
   "cell_type": "markdown",
   "id": "b78896b1-ef8d-4be5-a632-79e735091034",
   "metadata": {},
   "source": [
    "#### Data Loading"
   ]
  },
  {
   "cell_type": "markdown",
   "id": "111f97a3-27c4-47a2-8afa-8eb40f5ab6ac",
   "metadata": {},
   "source": [
    "Since we're using test data, we'll skip the external validation on the Liu 2019 cohort. In a real scenario with full TCGA data, this would demonstrate the model's generalizability to independent datasets."
   ]
  },
  {
   "cell_type": "code",
   "execution_count": null,
   "id": "c0f3663e-8794-4e45-aa33-1aa93fbe4919",
   "metadata": {},
   "outputs": [],
   "source": [
    "# External validation code - commented out for test data demo\n",
    "# To run external validation, you would need to download the Liu 2019 cohort data\n",
    "# from https://doi.org/10.1038/s41591-019-0654-5\n",
    "\n",
    "print(\"External validation section skipped - using test data only\")"
   ]
  },
  {
   "cell_type": "markdown",
   "id": "d240c212-27be-4dbc-8358-30102c6ad9f4",
   "metadata": {},
   "source": [
    "#### Predict Validation Samples"
   ]
  },
  {
   "cell_type": "code",
   "execution_count": null,
   "id": "de8df683-f8a6-4ca5-81e2-d89aefb6db09",
   "metadata": {
    "tags": []
   },
   "outputs": [],
   "source": [
    "# Skip prediction on validation samples\n",
    "pass"
   ]
  },
  {
   "cell_type": "markdown",
   "id": "e68a26cb-8dd4-4328-8e2a-4d2183557241",
   "metadata": {},
   "source": [
    "#### Plot Validation Samples"
   ]
  },
  {
   "cell_type": "code",
   "execution_count": null,
   "id": "576a017a-4757-4b91-a291-b3e1bc0e5336",
   "metadata": {},
   "outputs": [],
   "source": [
    "# Skip validation plotting\n",
    "print(\"Validation plotting skipped - no external validation data available\")"
   ]
  },
  {
   "cell_type": "markdown",
   "id": "63bedc7b-5729-4fc7-966e-fbe3175445c9",
   "metadata": {},
   "source": [
    "We can see that even in a independent dataset Pnet is generally predicting purity well. It is overestimating the purity in the validation set slightly, especially for lower purity samples. Maybe the performance could be improved by using a customary loss function for the problem at hand."
   ]
  },
  {
   "cell_type": "markdown",
   "id": "a564b067-1d0a-4327-ab7d-93bef191e479",
   "metadata": {},
   "source": [
    "## Use custom loss function"
   ]
  },
  {
   "cell_type": "markdown",
   "id": "7d93b2cc-67c2-455c-ad1a-f0f66a480a74",
   "metadata": {},
   "source": [
    "We define a weighted MSE loss that penalizes bad predictions in extreme samples more. Bad predictions in a sample with very high or very low purity would be more influencial to the model than in average purity samples."
   ]
  },
  {
   "cell_type": "code",
   "execution_count": null,
   "id": "984f4734-b2c9-449f-ba69-127e0a9f2447",
   "metadata": {},
   "outputs": [],
   "source": [
    "import torch.nn as nn\n",
    "import torch.nn.functional as F\n",
    "\n",
    "class WeightedMSELoss(nn.Module):\n",
    "    def __init__(self):\n",
    "        super(WeightedMSELoss, self).__init__()\n",
    "\n",
    "    def forward(self, input, target):\n",
    "        # Calculate the absolute distance of the true values from 0.5\n",
    "        distance_from_center = torch.abs(target - 0.5)\n",
    "        # Scale weights as needed; further from 0.5 gets higher weight\n",
    "        # This example linearly increases the weight as the distance from 0.5 increases\n",
    "        weights = 1 + distance_from_center \n",
    "        # Calculate weighted MSE\n",
    "        se = (input - target) ** 2\n",
    "        weighted_se = weights * se\n",
    "        loss = weighted_se.mean()\n",
    "        return loss\n"
   ]
  },
  {
   "cell_type": "markdown",
   "id": "1d23678d-1697-4bb0-a8cb-0884f99cb4e8",
   "metadata": {},
   "source": [
    "The custom loss function easily integrates into the model training."
   ]
  },
  {
   "cell_type": "code",
   "execution_count": null,
   "id": "29db35bc-e336-4d2d-83f9-496c8a7d89b7",
   "metadata": {},
   "outputs": [
    {
     "name": "stdout",
     "output_type": "stream",
     "text": [
      "Task defined: REG \n",
      " if this is not the intended task please specify task\n",
      "Given 2 Input modalities\n",
      "Found 357 overlapping indicies\n",
      "Initializing Train Dataset\n",
      "Found 626 overlapping genes\n",
      "generated input DataFrame of size (286, 1252)\n",
      "Initializing Test Dataset\n",
      "Found 626 overlapping genes\n",
      "generated input DataFrame of size (71, 1252)\n",
      "Found 626 overlapping genes\n",
      "We are sending to cuda\n",
      "Hit early stopping criteria\n"
     ]
    }
   ],
   "source": [
    "model, train_scores, test_scores, train_dataset, test_dataset = Pnet.run(genetic_data,\n",
    "                                                                         purity,\n",
    "                                                                         gene_set=canc_genes,\n",
    "                                                                         loss_fn = WeightedMSELoss())"
   ]
  },
  {
   "cell_type": "code",
   "execution_count": null,
   "id": "14a86ff9-69ce-428c-878a-1a01c7f836bf",
   "metadata": {},
   "outputs": [
    {
     "data": {
      "image/png": "[encoded data removed]",
      "text/plain": [
       "<Figure size 432x288 with 1 Axes>"
      ]
     },
     "metadata": {
      "needs_background": "light"
     },
     "output_type": "display_data"
    }
   ],
   "source": [
    "model.to('cpu')\n",
    "\n",
    "y_pred = model.predict(x_test, additional_test).detach()\n",
    "\n",
    "df = pd.DataFrame(index=test_dataset.input_df.index)\n",
    "df['y_test'] = y_test\n",
    "df['y_pred'] = y_pred\n",
    "\n",
    "sns.regplot(data=df, x='y_test', y='y_pred', color='#41B6E6')\n",
    "correlation_coefficient = round(df['y_test'].corr(df['y_pred']), 2)\n",
    "plt.text(0.95, 0.05, f'Correlation: {correlation_coefficient}', ha='right', va='center', transform=plt.gca().transAxes)\n",
    "plt.plot(y_test, y_test, color='#FFA300', linestyle='--', label='Diagonal Line')\n",
    "sns.despine()\n",
    "plt.show()"
   ]
  },
  {
   "cell_type": "markdown",
   "id": "a2f71700-9c76-43bb-ab70-7a16ad821028",
   "metadata": {},
   "source": [
    "Performance in the test dataset is already much higher. Especially in extreme samples."
   ]
  },
  {
   "cell_type": "code",
   "execution_count": null,
   "id": "332baaeb-2c5e-4678-b407-f8ad05e3cf20",
   "metadata": {},
   "outputs": [],
   "source": [
    "# Skip external validation with custom loss\n",
    "print(\"External validation with custom loss function skipped - no external data available\")"
   ]
  }
 ],
 "metadata": {
  "environment": {
   "kernel": "conda-env-pnet-py",
   "name": "pytorch-gpu.1-10.m90",
   "type": "gcloud",
   "uri": "gcr.io/deeplearning-platform-release/pytorch-gpu.1-10:m90"
  },
  "kernelspec": {
   "display_name": "pnet",
   "language": "python",
   "name": "python3"
  },
  "language_info": {
   "codemirror_mode": {
    "name": "ipython",
    "version": 3
   },
   "file_extension": ".py",
   "mimetype": "text/x-python",
   "name": "python",
   "nbconvert_exporter": "python",
   "pygments_lexer": "ipython3",
   "version": "3.12.1"
  }
 },
 "nbformat": 4,
 "nbformat_minor": 5
}
